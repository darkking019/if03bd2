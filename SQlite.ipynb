{
  "nbformat": 4,
  "nbformat_minor": 0,
  "metadata": {
    "colab": {
      "provenance": []
    },
    "kernelspec": {
      "name": "python3",
      "display_name": "Python 3"
    },
    "language_info": {
      "name": "python"
    }
  },
  "cells": [
    {
      "cell_type": "code",
      "execution_count": 13,
      "metadata": {
        "id": "ZqeW5rBZcKLf"
      },
      "outputs": [],
      "source": [
        "from sqlite3 import Error\n",
        "\n",
        "def execute_query(connection, query):\n",
        "    cursor = connection.cursor()\n",
        "    try:\n",
        "        cursor.execute(query)\n",
        "\n",
        "        # commit necessário para alterações no banco\n",
        "        connection.commit() ###\n",
        "\n",
        "        print(f\"Query executada.\")\n",
        "        if cursor.rowcount != -1:\n",
        "            print(f\"{cursor.rowcount} linha(s) afetadas\")\n",
        "\n",
        "    except Error as e:\n",
        "        print(f\"Erro: '{e}'\")"
      ]
    },
    {
      "cell_type": "markdown",
      "source": [
        "consulta SQL e Python"
      ],
      "metadata": {
        "id": "zhNDt9-IMC8m"
      }
    },
    {
      "cell_type": "code",
      "execution_count": 14,
      "metadata": {
        "id": "4mydOzhxLDLm"
      },
      "outputs": [],
      "source": [
        "## Forma mais direta\n",
        "import sqlite3\n",
        "connection = sqlite3.connect(\"pizza_app.sqlite\")"
      ]
    },
    {
      "cell_type": "code",
      "source": [],
      "metadata": {
        "id": "VNne6tLUM8Tm"
      },
      "execution_count": null,
      "outputs": []
    },
    {
      "cell_type": "code",
      "execution_count": 11,
      "metadata": {
        "colab": {
          "base_uri": "https://localhost:8080/"
        },
        "id": "iKN5peOAdcxW",
        "outputId": "bc1667fb-bd6b-48c3-cc0d-43cfaf1f5063"
      },
      "outputs": [
        {
          "output_type": "stream",
          "name": "stdout",
          "text": [
            "Query executada.\n",
            "5 linha(s) afetadas\n",
            "Query executada.\n",
            "1 linha(s) afetadas\n"
          ]
        }
      ],
      "source": [
        "## Inserindo registros manualmente\n",
        "\n",
        "# Inserindo produto #\n",
        "insert_produto = \\\n",
        "\"\"\"INSERT INTO\n",
        "produto (tipo, desc_item, vl_preco)\n",
        "VALUES\n",
        "('ingrediente', 'camarão', 6),\n",
        "('massa', 'tradicional', 9.25),\n",
        "('borda', 'tradicional', 0),\n",
        "('queijo', 'muçarela', 4),\n",
        "('bebida', 'refrigerante', 5);\n",
        "\"\"\"\n",
        "execute_query(connection, insert_produto)\n",
        "######################\n",
        "\n",
        "# Inserindo pedido\n",
        "insert_pedido = \\\n",
        "\"\"\"INSERT INTO\n",
        "pedido (dt_pedido, fl_ketchup, desc_uf, txt_recado)\n",
        "VALUES\n",
        "('2023-06-01', TRUE, 'MG', 'Capricha no queijo!');\n",
        "\"\"\"\n",
        "execute_query(connection, insert_pedido)\n",
        "######################"
      ]
    },
    {
      "cell_type": "code",
      "source": [],
      "metadata": {
        "id": "b1jWr4EgTDDh"
      },
      "execution_count": null,
      "outputs": []
    },
    {
      "cell_type": "code",
      "source": [
        "# Inserindo item_pedido\n",
        "itens = (\n",
        "    {'id_pedido': 1, 'id_produto': 2, 'qtd': 1},\n",
        "    {'id_pedido': 1, 'id_produto': 3, 'qtd': 1},\n",
        "    {'id_pedido': 1, 'id_produto': 1, 'qtd': 1},\n",
        "    {'id_pedido': 1, 'id_produto': 4, 'qtd': 2},\n",
        "    {'id_pedido': 1, 'id_produto': 5, 'qtd': 3}\n",
        ")\n",
        "\n",
        "insert_item_pedido = \\\n",
        "\"\"\"INSERT INTO item_pedido (id_pedido, id_produto, quantidade)\n",
        "VALUES(:id_pedido, :id_produto, :qtd);\"\"\"\n",
        "\n",
        "cursor = connection.cursor()\n",
        "cursor.executemany(insert_item_pedido, itens)\n",
        "connection.commit() # necessário para inserções\n",
        "cursor.close()"
      ],
      "metadata": {
        "id": "M4Qf26s6T78N"
      },
      "execution_count": 17,
      "outputs": []
    },
    {
      "cell_type": "code",
      "source": [
        "def execute_read_query(connection, query):\n",
        "    cursor = connection.cursor()\n",
        "    result = None\n",
        "    try:\n",
        "        cursor.execute(query)\n",
        "        result = cursor.fetchall()\n",
        "\n",
        "        return result\n",
        "    except Error as e:\n",
        "        print(f\"Erro: '{e}'\")"
      ],
      "metadata": {
        "id": "QsyS38_hTFjB"
      },
      "execution_count": 18,
      "outputs": []
    },
    {
      "cell_type": "code",
      "source": [
        "tabela = 'produto'\n",
        "query = f\"SELECT * FROM {tabela}\"\n",
        "resultado = execute_read_query(connection, query)\n",
        "\n",
        "print(f\"Tabela: {tabela}\")\n",
        "for res in resultado:\n",
        "    print(res)"
      ],
      "metadata": {
        "colab": {
          "base_uri": "https://localhost:8080/"
        },
        "id": "j1uncRAGTMep",
        "outputId": "d7d0d974-d6c2-48fe-8314-ac133f9f6e39"
      },
      "execution_count": 19,
      "outputs": [
        {
          "output_type": "stream",
          "name": "stdout",
          "text": [
            "Tabela: produto\n",
            "(1, 'ingrediente', 'camarão', 6)\n",
            "(2, 'massa', 'tradicional', 9.25)\n",
            "(3, 'borda', 'tradicional', 0)\n",
            "(4, 'queijo', 'muçarela', 4)\n",
            "(5, 'bebida', 'refrigerante', 5)\n",
            "(6, 'ingrediente', 'camarão', 6)\n",
            "(7, 'massa', 'tradicional', 9.25)\n",
            "(8, 'borda', 'tradicional', 0)\n",
            "(9, 'queijo', 'muçarela', 4)\n",
            "(10, 'bebida', 'refrigerante', 5)\n"
          ]
        }
      ]
    },
    {
      "cell_type": "code",
      "source": [
        "select_table_names = \\\n",
        "\"SELECT name FROM sqlite_schema WHERE type='table';\"\n",
        "tables = execute_read_query(connection, select_table_names)\n",
        "print(tables, '\\n')\n",
        "\n",
        "for table in tables:\n",
        "    select_all = f\"SELECT * FROM {table[0]}\"\n",
        "    res = execute_read_query(connection, select_all)\n",
        "    print(f\"{table[0]}: {res}\")"
      ],
      "metadata": {
        "colab": {
          "base_uri": "https://localhost:8080/"
        },
        "id": "y6AfhIhSTRhS",
        "outputId": "0c13b521-b4a2-4097-c07f-cf9c78728c87"
      },
      "execution_count": 21,
      "outputs": [
        {
          "output_type": "stream",
          "name": "stdout",
          "text": [
            "[('produto',), ('sqlite_sequence',), ('pedido',), ('item_pedido',)] \n",
            "\n",
            "produto: [(1, 'ingrediente', 'camarão', 6), (2, 'massa', 'tradicional', 9.25), (3, 'borda', 'tradicional', 0), (4, 'queijo', 'muçarela', 4), (5, 'bebida', 'refrigerante', 5), (6, 'ingrediente', 'camarão', 6), (7, 'massa', 'tradicional', 9.25), (8, 'borda', 'tradicional', 0), (9, 'queijo', 'muçarela', 4), (10, 'bebida', 'refrigerante', 5)]\n",
            "sqlite_sequence: [('produto', 10), ('pedido', 2)]\n",
            "pedido: [(1, '2023-06-01', 1, 'MG', 'Capricha no queijo!'), (2, '2023-06-01', 1, 'MG', 'Capricha no queijo!')]\n",
            "item_pedido: [(1, 2, 1), (1, 3, 1), (1, 1, 1), (1, 4, 2), (1, 5, 3)]\n"
          ]
        }
      ]
    },
    {
      "cell_type": "code",
      "source": [
        "execute_query(connection, \"DELETE FROM item_pedido;\")\n",
        "execute_query(connection, \"DELETE FROM pedido;\")\n",
        "execute_query(connection, \"DELETE FROM produto;\")"
      ],
      "metadata": {
        "colab": {
          "base_uri": "https://localhost:8080/"
        },
        "id": "Y1RyFmu-TZbb",
        "outputId": "9559d0c8-f2d7-47a7-84cc-6189ab1719e6"
      },
      "execution_count": 22,
      "outputs": [
        {
          "output_type": "stream",
          "name": "stdout",
          "text": [
            "Query executada.\n",
            "5 linha(s) afetadas\n",
            "Query executada.\n",
            "2 linha(s) afetadas\n",
            "Query executada.\n",
            "10 linha(s) afetadas\n"
          ]
        }
      ]
    }
  ]
}