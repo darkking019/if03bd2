{
  "nbformat": 4,
  "nbformat_minor": 0,
  "metadata": {
    "colab": {
      "provenance": [],
      "authorship_tag": "ABX9TyOZEjkWFVDd7h6totec/zQY",
      "include_colab_link": true
    },
    "kernelspec": {
      "name": "python3",
      "display_name": "Python 3"
    },
    "language_info": {
      "name": "python"
    }
  },
  "cells": [
    {
      "cell_type": "markdown",
      "metadata": {
        "id": "view-in-github",
        "colab_type": "text"
      },
      "source": [
        "<a href=\"https://colab.research.google.com/github/darkking019/if03bd2/blob/main/trabalhoBDP1.ipynb\" target=\"_parent\"><img src=\"https://colab.research.google.com/assets/colab-badge.svg\" alt=\"Open In Colab\"/></a>"
      ]
    },
    {
      "cell_type": "code",
      "execution_count": null,
      "metadata": {
        "id": "IDob4kj_rLe9"
      },
      "outputs": [],
      "source": [
        "import sqlite3\n",
        "from sqlite3 import Error\n",
        "\n",
        "## Função de alteração (insert, update, delete...)\n",
        "def execute_query(connection, query):\n",
        "    cursor = connection.cursor()\n",
        "    try:\n",
        "        cursor.execute(query)\n",
        "        connection.commit()\n",
        "        print(f\"Query {query.split('(')[0].strip()} executada.\")\n",
        "        if cursor.rowcount != -1: print(f\"{cursor.rowcount} linha(s) afetadas\")\n",
        "\n",
        "    except Error as e:\n",
        "        print(f\"Erro: '{e}'\")\n",
        "\n",
        "\n",
        "# Função de leitura de dados (select)\n",
        "def execute_read_query(connection, query):\n",
        "    cursor = connection.cursor()\n",
        "    result = None\n",
        "    try:\n",
        "        cursor.execute(query)\n",
        "        result = cursor.fetchall()\n",
        "\n",
        "        return result\n",
        "    except Error as e:\n",
        "        print(f\"Erro: '{e}'\")"
      ]
    },
    {
      "cell_type": "code",
      "source": [
        "## Criando conexão\n",
        "connection = sqlite3.connect(\"mapeamento_cultural.sqlite\")\n",
        "\n",
        "query = \"\"\"\n",
        "CREATE TABLE endereco (\n",
        "    id INTEGER PRIMARY KEY AUTOINCREMENT,\n",
        "    rua VARCHAR(100),\n",
        "    numero VARCHAR(10),\n",
        "    CEP VARCHAR(10),\n",
        "    regiao VARCHAR(50)\n",
        ");\n",
        "\"\"\"\n",
        "execute_query(connection, query)\n",
        "\n",
        "query = \"\"\"\n",
        "CREATE TABLE pontos_historicos (\n",
        "    id INTEGER PRIMARY KEY AUTOINCREMENT,\n",
        "    descricao TEXT,\n",
        "    endereco_id INT,\n",
        "    FOREIGN KEY (endereco_id) REFERENCES endereco(id)\n",
        ");\n",
        "\"\"\"\n",
        "execute_query(connection, query)\n",
        "\n",
        "query = \"\"\"\n",
        "CREATE TABLE grupo_cultural (\n",
        "    id INTEGER PRIMARY KEY AUTOINCREMENT,\n",
        "    nome VARCHAR(100),\n",
        "    descricao TEXT,\n",
        "    fotos TEXT,\n",
        "    contato VARCHAR(100)\n",
        ");\n",
        "\"\"\"\n",
        "execute_query(connection, query)\n",
        "\n",
        "query = \"\"\"\n",
        "CREATE TABLE evento (\n",
        "    id INTEGER PRIMARY KEY AUTOINCREMENT,\n",
        "    data DATE,\n",
        "    horario TIME,\n",
        "    local VARCHAR(100),\n",
        "    status VARCHAR(50),\n",
        "    url_ingresso VARCHAR(255)\n",
        ");\n",
        "\"\"\"\n",
        "execute_query(connection, query)\n",
        "\n",
        "query = \"\"\"\n",
        "CREATE TABLE localiza (\n",
        "    grupo_id INTEGER,\n",
        "    ponto_id INTEGER,\n",
        "    PRIMARY KEY (grupo_id, ponto_id),\n",
        "    FOREIGN KEY (grupo_id) REFERENCES grupo_cultural(id),\n",
        "    FOREIGN KEY (ponto_id) REFERENCES pontos_historicos(id)\n",
        ");\n",
        "\"\"\"\n",
        "execute_query(connection, query)\n",
        "\n",
        "query = \"\"\"\n",
        "CREATE TABLE apresenta (\n",
        "    grupo_id INTEGER,\n",
        "    evento_id INTEGER,\n",
        "    grupo_responsavel VARCHAR(100),\n",
        "    PRIMARY KEY (grupo_id, evento_id),\n",
        "    FOREIGN KEY (grupo_id) REFERENCES grupo_cultural(id),\n",
        "    FOREIGN KEY (evento_id) REFERENCES evento(id)\n",
        ");\n",
        "\"\"\"\n",
        "execute_query(connection, query)"
      ],
      "metadata": {
        "colab": {
          "base_uri": "https://localhost:8080/"
        },
        "id": "lbqD0ARSrSiX",
        "outputId": "048342de-46c9-47a5-dffd-e837c3db4239"
      },
      "execution_count": null,
      "outputs": [
        {
          "output_type": "stream",
          "name": "stdout",
          "text": [
            "Query CREATE TABLE endereco executada.\n",
            "Query CREATE TABLE pontos_historicos executada.\n",
            "Query CREATE TABLE grupo_cultural executada.\n",
            "Query CREATE TABLE evento executada.\n",
            "Query CREATE TABLE localiza executada.\n",
            "Query CREATE TABLE apresenta executada.\n"
          ]
        }
      ]
    },
    {
      "cell_type": "markdown",
      "source": [
        " atividade 1 :Objetivo da consulta : Contar o número de eventos por regiãono site do Projeto Cultural Neves.\n",
        " ação esperada : Retorna o número total de eventos por região, usando JOIN com endereco e pontos_historicos."
      ],
      "metadata": {
        "id": "IkrwovYhrh9G"
      }
    },
    {
      "cell_type": "code",
      "source": [
        "query1 = \"\"\"\n",
        "SELECT e.regiao, COUNT(ev.id) AS num_eventos\n",
        "FROM endereco e\n",
        "JOIN pontos_historicos ph ON e.id = ph.endereco_id\n",
        "JOIN localiza l ON ph.id = l.ponto_id\n",
        "JOIN apresenta a ON l.grupo_id = a.grupo_id\n",
        "JOIN evento ev ON a.evento_id = ev.id\n",
        "GROUP BY e.regiao;\n",
        "\"\"\"\n",
        "result1 = execute_read_query(connection, query1)\n",
        "print(\"Consulta 1 - Eventos por região:\", result1)"
      ],
      "metadata": {
        "colab": {
          "base_uri": "https://localhost:8080/"
        },
        "id": "O_IJEWGttvbT",
        "outputId": "92b46d60-6b6d-45bb-b9c9-7d3faaae3cf2"
      },
      "execution_count": null,
      "outputs": [
        {
          "output_type": "stream",
          "name": "stdout",
          "text": [
            "Consulta 1 - Eventos por região: []\n"
          ]
        }
      ]
    },
    {
      "cell_type": "markdown",
      "source": [
        " atividade 2:\n",
        "Objetivo da consulta: Calcular a média de eventos por grupo cultural no site.\n",
        " ação esperada : Retorna a média de eventos associados a cada grupo cultural."
      ],
      "metadata": {
        "id": "oiHGKDiLwBRs"
      }
    },
    {
      "cell_type": "code",
      "source": [
        "query2 = \"\"\"\n",
        "SELECT AVG(num_eventos) AS media_eventos_por_grupo\n",
        "FROM (\n",
        "    SELECT g.id, COUNT(a.evento_id) AS num_eventos\n",
        "    FROM grupo_cultural g\n",
        "    LEFT JOIN apresenta a ON g.id = a.grupo_id\n",
        "    GROUP BY g.id\n",
        ") subquery;\n",
        "\"\"\"\n",
        "result2 = execute_read_query(connection, query2)\n",
        "print(\"Consulta 2 - Média de eventos por grupo:\", result2)"
      ],
      "metadata": {
        "id": "a_rQxLYWv_Lf"
      },
      "execution_count": null,
      "outputs": []
    },
    {
      "cell_type": "markdown",
      "source": [
        "atividade 3:\n",
        " Objetivo da consulta: Listar eventos, grupos culturais e endereços dos pontos históricos associados, no site do Projeto Cultural Neves.\n",
        " ação esperada : Retorna detalhes de eventos, incluindo o nome do grupo cultural, o local do evento e o endereço do ponto histórico associado."
      ],
      "metadata": {
        "id": "lX4yoT3swOOp"
      }
    },
    {
      "cell_type": "code",
      "source": [
        "query3 = \"\"\"\n",
        "SELECT ev.data, ev.local, g.nome AS grupo, e.rua, e.numero, e.regiao\n",
        "FROM evento ev\n",
        "JOIN apresenta a ON ev.id = a.evento_id\n",
        "JOIN grupo_cultural g ON a.grupo_id = g.id\n",
        "JOIN localiza l ON g.id = l.grupo_id\n",
        "JOIN pontos_historicos ph ON l.ponto_id = ph.id\n",
        "JOIN endereco e ON ph.endereco_id = e.id;\n",
        "\"\"\"\n",
        "result3 = execute_read_query(connection, query3)\n",
        "print(\"Consulta 3 - Eventos, grupos e endereços:\", result3)"
      ],
      "metadata": {
        "colab": {
          "base_uri": "https://localhost:8080/"
        },
        "id": "4HigEBYPwN6-",
        "outputId": "fc473853-dc50-47f3-8cd8-cb8740829b86"
      },
      "execution_count": null,
      "outputs": [
        {
          "output_type": "stream",
          "name": "stdout",
          "text": [
            "Consulta 3 - Eventos, grupos e endereços: []\n"
          ]
        }
      ]
    },
    {
      "cell_type": "markdown",
      "source": [
        "Atividade 04\n",
        " consulta  View : A view é necessária para facilitar a consulta recorrente de eventos ativos com detalhes de grupos culturais e locais, otimizando a exibição de eventos confirmados no site.\n",
        "ação esperada ao rodar a consulta: Retorna eventos com status 'Confirmado', incluindo o nome do grupo cultural e o local."
      ],
      "metadata": {
        "id": "4SG30gpZxM99"
      }
    },
    {
      "cell_type": "code",
      "source": [
        "create_view = \"\"\"\n",
        "CREATE VIEW IF NOT EXISTS eventos_confirmados AS\n",
        "SELECT ev.id, ev.data, ev.horario, ev.local, g.nome AS grupo_responsavel\n",
        "FROM evento ev\n",
        "JOIN apresenta a ON ev.id = a.evento_id\n",
        "JOIN grupo_cultural g ON a.grupo_id = g.id\n",
        "WHERE ev.status = 'Confirmado';\n",
        "\"\"\"\n",
        "execute_query(connection, create_view)\n",
        "\n",
        "query_view = \"\"\"\n",
        "SELECT * FROM eventos_confirmados;\n",
        "\"\"\"\n",
        "result_view = execute_read_query(connection, query_view)\n",
        "print(\"View - Eventos confirmados:\", result_view)"
      ],
      "metadata": {
        "colab": {
          "base_uri": "https://localhost:8080/"
        },
        "id": "g_ITyxjPxMpM",
        "outputId": "3bf0b15b-08f5-43f4-b99a-4826bc1c0c82"
      },
      "execution_count": null,
      "outputs": [
        {
          "output_type": "stream",
          "name": "stdout",
          "text": [
            "Query CREATE VIEW IF NOT EXISTS eventos_confirmados AS\n",
            "SELECT ev.id, ev.data, ev.horario, ev.local, g.nome AS grupo_responsavel\n",
            "FROM evento ev\n",
            "JOIN apresenta a ON ev.id = a.evento_id\n",
            "JOIN grupo_cultural g ON a.grupo_id = g.id\n",
            "WHERE ev.status = 'Confirmado'; executada.\n",
            "View - Eventos confirmados: []\n"
          ]
        }
      ]
    },
    {
      "cell_type": "markdown",
      "source": [
        "Atividade 04\n",
        "operação  Procedure : Registrar a associação de um grupo cultural a um evento é uma operação comum no site, e encapsular a lógica em uma procedure garante consistência na inserção e validação de dados.\n",
        "ação esperada : Insere um registro na tabela apresenta, associando um grupo a um evento, após verificar a existência de ambos."
      ],
      "metadata": {
        "id": "g3xHfecRxyS4"
      }
    },
    {
      "cell_type": "code",
      "source": [
        "def associar_grupo_evento(connection, grupo_id, evento_id, grupo_responsavel):\n",
        "    check_grupo = f\"SELECT id FROM grupo_cultural WHERE id = {grupo_id};\"\n",
        "    check_evento = f\"SELECT id FROM evento WHERE id = {evento_id};\"\n",
        "    grupo = execute_read_query(connection, check_grupo)\n",
        "    evento = execute_read_query(connection, check_evento)\n",
        "    if grupo and evento:\n",
        "        insert_query = f\"\"\"\n",
        "        INSERT INTO apresenta (grupo_id, evento_id, grupo_responsavel)\n",
        "        VALUES ({grupo_id}, {evento_id}, '{grupo_responsavel}');\n",
        "        \"\"\"\n",
        "        execute_query(connection, insert_query)\n",
        "    else:\n",
        "        print(\"Grupo ou evento não encontrado.\")\n",
        "\n",
        "# Exemplo de execução da procedure\n",
        "associar_grupo_evento(connection, 1, 2, 'Grupo Folclórico Raízes')"
      ],
      "metadata": {
        "colab": {
          "base_uri": "https://localhost:8080/"
        },
        "id": "ebKYCMi8wNU-",
        "outputId": "c6f5da2a-0ac3-411b-fda7-9c97051633f5"
      },
      "execution_count": null,
      "outputs": [
        {
          "output_type": "stream",
          "name": "stdout",
          "text": [
            "Grupo ou evento não encontrado.\n"
          ]
        }
      ]
    },
    {
      "cell_type": "markdown",
      "source": [
        " Atividade 05\n",
        "operação s Function: Verificar o status de um evento (ativo ou pendente) é útil para várias consultas no site, e encapsular em uma function permite reutilização em diferentes contextos.\n",
        "acao esperada: Retorna 1 se o evento está confirmado, 0 caso contrário."
      ],
      "metadata": {
        "id": "qVIRlqDns0vs"
      }
    },
    {
      "cell_type": "code",
      "source": [
        "def verificar_status_evento(status):\n",
        "    return 1 if status == 'Confirmado' else 0\n",
        "\n",
        "connection.create_function(\"verificar_status_evento\", 1, verificar_status_evento)\n",
        "\n",
        "query_function = \"\"\"\n",
        "SELECT id, data, local, verificar_status_evento(status) AS is_confirmado\n",
        "FROM evento;\n",
        "\"\"\"\n",
        "result_function = execute_read_query(connection, query_function)\n",
        "print(\"Function - Status de eventos:\", result_function)"
      ],
      "metadata": {
        "colab": {
          "base_uri": "https://localhost:8080/"
        },
        "id": "FWc1r04DydPI",
        "outputId": "1bdbd1e5-fb28-47a2-80b0-ef97e34b74cf"
      },
      "execution_count": null,
      "outputs": [
        {
          "output_type": "stream",
          "name": "stdout",
          "text": [
            "Function - Status de eventos: []\n"
          ]
        }
      ]
    },
    {
      "cell_type": "markdown",
      "source": [
        "Atividade 06\n",
        "operação Trigger : Garantir que o status de um evento seja atualizado automaticamente para 'Confirmado' quando associado a um grupo cultural melhora a eficiência e consistência no site.\n",
        " disparador do Trigger e das operações que ele executa: Dispara após INSERT em apresenta, atualizando o status do evento correspondente para 'Confirmado'."
      ],
      "metadata": {
        "id": "OBmh8JSxyljM"
      }
    },
    {
      "cell_type": "code",
      "source": [
        "create_trigger = \"\"\"\n",
        "CREATE TRIGGER IF NOT EXISTS atualiza_status_evento\n",
        "AFTER INSERT ON apresenta\n",
        "FOR EACH ROW\n",
        "BEGIN\n",
        "    UPDATE evento\n",
        "    SET status = 'Confirmado'\n",
        "    WHERE id = NEW.evento_id;\n",
        "END;\n",
        "\"\"\"\n",
        "execute_query(connection, create_trigger)\n",
        "\n",
        "# Exemplo de teste para acionar o trigger\n",
        "associar_grupo_evento(connection, 2, 1, 'Banda Cultural Neves')"
      ],
      "metadata": {
        "colab": {
          "base_uri": "https://localhost:8080/"
        },
        "id": "6thbR2wiykqU",
        "outputId": "83d45b4f-89cc-42ca-d944-daab1c64d19e"
      },
      "execution_count": null,
      "outputs": [
        {
          "output_type": "stream",
          "name": "stdout",
          "text": [
            "Query CREATE TRIGGER IF NOT EXISTS atualiza_status_evento\n",
            "AFTER INSERT ON apresenta\n",
            "FOR EACH ROW\n",
            "BEGIN\n",
            "    UPDATE evento\n",
            "    SET status = 'Confirmado'\n",
            "    WHERE id = NEW.evento_id;\n",
            "END; executada.\n",
            "Grupo ou evento não encontrado.\n"
          ]
        }
      ]
    }
  ]
}